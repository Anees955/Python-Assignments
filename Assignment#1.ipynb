{
 "cells": [
  {
   "cell_type": "code",
   "execution_count": 8,
   "metadata": {},
   "outputs": [
    {
     "name": "stdout",
     "output_type": "stream",
     "text": [
      "Twinkle, twinkle, little star,\n",
      "\tHow I wonder what you are!\n",
      "\t\tUp above the world so high,\n",
      "\t\tLike a diamond in the sky.\n",
      "Twinkle, twinkle, little star,\n",
      "\tHow I wonder what you are\n"
     ]
    }
   ],
   "source": [
    "#Program #1\n",
    "#we can print all this in one print command by using bitwise operators or escape Sequence like \\n for new line \\t for tab etc in java.\n",
    "print(\"Twinkle, twinkle, little star,\\n\\tHow I wonder what you are!\\n\\t\\tUp above the world so high,\\n\\t\\tLike a diamond in the sky.\\nTwinkle, twinkle, little star,\\n\\tHow I wonder what you are\");"
   ]
  },
  {
   "cell_type": "code",
   "execution_count": 15,
   "metadata": {},
   "outputs": [
    {
     "name": "stdout",
     "output_type": "stream",
     "text": [
      "Twinkle, twinkle, little star,\n",
      "     How I wonder what you are!\n",
      "          Up above the world so high,\n",
      "          Like a diamond in the sky.\n",
      "Twinkle, twinkle, little star,\n",
      "     How I wonder what you are!\n"
     ]
    }
   ],
   "source": [
    "# program #1 V2 \n",
    "#here is another version of same above program using multiple print commands.\n",
    "print(\"Twinkle, twinkle, little star,\");\n",
    "print(\"     How I wonder what you are!\");\n",
    "print(\"          Up above the world so high,\");\n",
    "print(\"          Like a diamond in the sky.\");\n",
    "print(\"Twinkle, twinkle, little star,\");\n",
    "print(\"     How I wonder what you are!\");\n"
   ]
  },
  {
   "cell_type": "code",
   "execution_count": 19,
   "metadata": {},
   "outputs": [
    {
     "name": "stdout",
     "output_type": "stream",
     "text": [
      "3.7.4 (default, Aug  9 2019, 18:34:13) [MSC v.1915 64 bit (AMD64)]\n"
     ]
    }
   ],
   "source": [
    "#Program #2\n",
    "# Sir i have searched on internet because here we have to impport pkg system pkg to get version\n",
    "import sys;\n",
    "print(sys.version);"
   ]
  },
  {
   "cell_type": "code",
   "execution_count": 28,
   "metadata": {},
   "outputs": [
    {
     "name": "stdout",
     "output_type": "stream",
     "text": [
      "2019-11-02 17:42:33.825814\n"
     ]
    }
   ],
   "source": [
    "#Program #3\n",
    "#we have to use datetime pkg to show and get current date and time it has alot version like we can show only time or date\n",
    "#and also we can print or save them in veriables as a integer value \n",
    "import datetime;\n",
    "currentDT=datetime.datetime.now();\n",
    "print(str(currentDT));"
   ]
  },
  {
   "cell_type": "code",
   "execution_count": 31,
   "metadata": {},
   "outputs": [
    {
     "name": "stdout",
     "output_type": "stream",
     "text": [
      "Enter the radius of circle: 1.4\n",
      "Area of circle is: 6.15\n"
     ]
    }
   ],
   "source": [
    "#Program #4\n",
    "PI=3.14\n",
    "r=float(input(\"Enter the radius of circle: \" ));\n",
    "area=PI*r*r;\n",
    "print(\"Area of circle is: %.2f\" %area);\n",
    "\n",
    "#we can also use pkg math if we want to use PI from math pkg"
   ]
  },
  {
   "cell_type": "code",
   "execution_count": 4,
   "metadata": {},
   "outputs": [
    {
     "name": "stdout",
     "output_type": "stream",
     "text": [
      "Enter First Name: Anees\n",
      "Enter Last Name: Solangi\n",
      "Solangi Anees\n"
     ]
    }
   ],
   "source": [
    "#Program #5\n",
    "firstName=input(\"Enter First Name: \")\n",
    "lastName=input(\"Enter Last Name: \")\n",
    "print(lastName + \" \" + firstName)"
   ]
  },
  {
   "cell_type": "code",
   "execution_count": 16,
   "metadata": {},
   "outputs": [
    {
     "name": "stdout",
     "output_type": "stream",
     "text": [
      "enter first value: 10\n",
      "enter second value: 15\n",
      "The Addition of both values:  25\n"
     ]
    }
   ],
   "source": [
    "#Program # 6\n",
    "v1=int(input(\"enter first value: \"))\n",
    "v2=int(input(\"enter second value: \"))\n",
    "res=v1+v2\n",
    "print(\"The Addition of both values: \",res)"
   ]
  },
  {
   "cell_type": "code",
   "execution_count": null,
   "metadata": {},
   "outputs": [],
   "source": []
  },
  {
   "cell_type": "code",
   "execution_count": null,
   "metadata": {},
   "outputs": [],
   "source": []
  }
 ],
 "metadata": {
  "kernelspec": {
   "display_name": "Python 3",
   "language": "python",
   "name": "python3"
  },
  "language_info": {
   "codemirror_mode": {
    "name": "ipython",
    "version": 3
   },
   "file_extension": ".py",
   "mimetype": "text/x-python",
   "name": "python",
   "nbconvert_exporter": "python",
   "pygments_lexer": "ipython3",
   "version": "3.7.4"
  }
 },
 "nbformat": 4,
 "nbformat_minor": 2
}
