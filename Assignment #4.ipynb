{
 "cells": [
  {
   "cell_type": "code",
   "execution_count": 25,
   "metadata": {},
   "outputs": [
    {
     "name": "stdout",
     "output_type": "stream",
     "text": [
      "Orignal Dictt:\n",
      "\n",
      " {'first_name': 'David', 'last_name': 'Elliott', 'age': '20y', 'city': 'karachi'}\n",
      "\n",
      "Added Key value pair key=Qualification value=Engineer\n",
      "\n",
      " {'first_name': 'David', 'last_name': 'Elliott', 'age': '20y', 'city': 'karachi', 'Qualification': 'Engineer'}\n",
      "\n",
      "\n",
      "After changing value of key Qualification\n",
      "\n",
      " {'first_name': 'David', 'last_name': 'Elliott', 'age': '20y', 'city': 'karachi', 'Qualification': 'Bs 4 year program'}\n",
      "\n",
      "\n",
      "After Deleting\n",
      "\n",
      " {'first_name': 'David', 'last_name': 'Elliott', 'age': '20y', 'city': 'karachi'}\n"
     ]
    }
   ],
   "source": [
    "# Question 1\n",
    "# \n",
    "\n",
    "biodata = {\n",
    "    \"first_name\" : \"David\",\n",
    "    \"last_name\" : \"Elliott\",\n",
    "    \"age\" : \"20y\",\n",
    "    \"city\" : \"karachi\"\n",
    "}\n",
    "\n",
    "print(\"Orignal Dictt:\\n\\n\",biodata)\n",
    "\n",
    "#first part of the question store and print data done \n",
    "\n",
    "biodata[\"Qualification\"] = \"Engineer\"  #Now Adding key value pair\n",
    "\n",
    "print(\"\\nAdded Key value pair key=Qualification value=Engineer\\n\\n\",biodata)\n",
    "\n",
    "\n",
    "#now Updatting Qualification value to Higher_Academic_Level\n",
    "\n",
    "\"\"\"\n",
    "Sir mujhe ye part thora samaj nhi aaya k just qualification ki value change karni hai ya pora key and value update hoga\n",
    "tu eslye main abi key ki value Engineer se meri high acaemic level karonga\n",
    "\"\"\"\n",
    "biodata[\"Qualification\"] = \"Bs 4 year program\"\n",
    "print(\"\\n\\nAfter changing value of key Qualification\\n\\n\",biodata)\n",
    "\n",
    "#Now Finaly delete \n",
    "\n",
    "del biodata[\"Qualification\"]\n",
    "print(\"\\n\\nAfter Deleting\\n\\n\",biodata)\n"
   ]
  },
  {
   "cell_type": "code",
   "execution_count": 65,
   "metadata": {},
   "outputs": [
    {
     "name": "stdout",
     "output_type": "stream",
     "text": [
      "--> info about Islamabad:\n",
      "\n",
      "Population:  1.015 M \n",
      "\n",
      "Fact:  Korangi in Karachi and Islamabad Have Been Designed by the Same Company!  oh and don't forget it beleongs to beautiful cities also \n",
      "\n",
      "Country:  Pakistan \n",
      "\n",
      "--> info about Paris:\n",
      "\n",
      "Population:  2.141 M \n",
      "\n",
      "Fact:  Paris was originally a Roman City called “Lutetia. and The Eiffel Tower was supposed to be a temporary installation, intended to stand for 20 years after being built for the 1889 World Fair \n",
      "\n",
      "Country:  France \n",
      "\n",
      "--> info about London:\n",
      "\n",
      "Population:  8.9 M \n",
      "\n",
      "Fact:  There is a Cereal Café in London which serves more than a 100 varieties of cereals from different parts of the world \n",
      "\n",
      "Country:  England\n"
     ]
    }
   ],
   "source": [
    "#Question #2\n",
    "\n",
    "cities = {\n",
    "    \n",
    "    \"islamabad\" : {\n",
    "        \n",
    "        \"population\" : \"1.015 M\",\n",
    "        \n",
    "        \"fact\" : \"Korangi in Karachi and Islamabad Have Been Designed by the Same Company!  oh and don't forget it beleongs to beautiful cities also\",\n",
    "        \n",
    "        \"country\" : \"Pakistan\",\n",
    "        \n",
    "    },\n",
    "    \n",
    "    \"paris\" : {\n",
    "        \n",
    "        \"population\" : \"2.141 M\",\n",
    "        \n",
    "        \"fact\" : \"Paris was originally a Roman City called “Lutetia. and The Eiffel Tower was supposed to be a temporary installation, intended to stand for 20 years after being built for the 1889 World Fair\",\n",
    "        \n",
    "        \"country\" : \"France\",\n",
    "        \n",
    "    },\n",
    "    \n",
    "    \"london\" : {\n",
    "        \n",
    "        \"population\" : \"8.9 M\",\n",
    "        \n",
    "        \"fact\" : \"There is a Cereal Café in London which serves more than a 100 varieties of cereals from different parts of the world\",       \n",
    "        \"country\" : \"England\",\n",
    "\n",
    "    },\n",
    "}\n",
    "\n",
    "print(\"--> info about Islamabad:\\n\\nPopulation: \",cities[\"islamabad\"][\"population\"],\"\\n\\nFact: \",cities[\"islamabad\"][\"fact\"],\"\\n\\nCountry: \",cities[\"islamabad\"][\"country\"],\"\\n\")\n",
    "print(\"--> info about Paris:\\n\\nPopulation: \",cities[\"paris\"][\"population\"],\"\\n\\nFact: \",cities[\"paris\"][\"fact\"],\"\\n\\nCountry: \",cities[\"paris\"][\"country\"],\"\\n\")\n",
    "print(\"--> info about London:\\n\\nPopulation: \",cities[\"london\"][\"population\"],\"\\n\\nFact: \",cities[\"london\"][\"fact\"],\"\\n\\nCountry: \",cities[\"london\"][\"country\"])\n"
   ]
  },
  {
   "cell_type": "code",
   "execution_count": 14,
   "metadata": {},
   "outputs": [
    {
     "name": "stdout",
     "output_type": "stream",
     "text": [
      "\n",
      "What is your age?\n",
      "13\n",
      "please pay 15$ cost for movie ticket\n"
     ]
    }
   ],
   "source": [
    "#Question #3\n",
    "\n",
    "userInput = int(input(\"\\nWhat is your age?\\n\"))\n",
    "\n",
    "if userInput <= 3 :\n",
    "    print(\"Hurray! its free for you enjoy the movie!\")\n",
    "\n",
    "elif userInput >= 4 and userInput <= 12 :\n",
    "    print(\"please pay 10$ cost for movie ticket\")\n",
    "\n",
    "elif userInput > 12 :\n",
    "    print(\"please pay 15$ cost for movie ticket\")\n"
   ]
  },
  {
   "cell_type": "code",
   "execution_count": 18,
   "metadata": {},
   "outputs": [
    {
     "name": "stdout",
     "output_type": "stream",
     "text": [
      "Alice in Wonderland is one of my favorite books!\n"
     ]
    }
   ],
   "source": [
    "#Question #4\n",
    "\n",
    "def favorite_book(title) :\n",
    "    print(\"Alice in Wonderland is one of my favorite books!\")\n",
    "\n",
    "title=\"Alice in wonderland\"\n",
    "favorite_book(title)"
   ]
  },
  {
   "cell_type": "code",
   "execution_count": 31,
   "metadata": {},
   "outputs": [
    {
     "name": "stdout",
     "output_type": "stream",
     "text": [
      "Guess the number from 1 to 30 you have three chances! Good Luck!\n",
      "\n",
      "20\n",
      "hint --> the number you entered is less then the right number\n",
      "try again\n",
      "\n",
      "25\n",
      "hint --> the number you entered is greater then the right number\n",
      "try again\n",
      "\n",
      "23\n",
      "Failed to guess the right number \n",
      "The right number was:  21\n"
     ]
    }
   ],
   "source": [
    "#Question #5\n",
    "\n",
    "import random\n",
    "\n",
    "rNum=random.randrange(1,30)\n",
    "#print(rNum)\n",
    "\n",
    "uInput=int(input(\"Guess the number from 1 to 30 you have three chances! Good Luck!\\n\\n\"))\n",
    "count = 1\n",
    "while count <=4:  #i have set the condition to be false when counter is == 4 because when the counter will be at 3 it will print the failed msg and exit it \n",
    "      \n",
    "    if uInput == rNum :\n",
    "        print(\"Well done! you guessed te right Number\")\n",
    "        break\n",
    "\n",
    "    elif uInput < rNum :\n",
    "        \n",
    "        if count == 3 :\n",
    "            print(\"Failed to guess the right number \\nThe right number was: \",rNum)\n",
    "            break\n",
    "        else :\n",
    "            print(\"hint --> the number you entered is less then the right number\")\n",
    "            uInput=int(input(\"try again\\n\\n\"))\n",
    "            \n",
    "    elif uInput > rNum :\n",
    "        \n",
    "        if count == 3 :\n",
    "            print(\"Failed to guess the right number \\nThe right number was: \",rNum)\n",
    "            break\n",
    "        else :\n",
    "            print(\"hint --> the number you entered is greater then the right number\")\n",
    "            uInput=int(input(\"try again\\n\\n\"))\n",
    "    count += 1\n",
    "    \n",
    "    \n",
    "    \"\"\"\n",
    "    sir this Question was tricky but i have gave it all \n",
    "    es ik program py mene 2 ghante lagae hain but at the end iam very that i dit that wow..\n",
    "    \n",
    "    i have used nested if..else and while loop to give 3  chances to user \n",
    "    \"\"\"\n",
    "    \n"
   ]
  },
  {
   "cell_type": "code",
   "execution_count": null,
   "metadata": {},
   "outputs": [],
   "source": []
  },
  {
   "cell_type": "code",
   "execution_count": null,
   "metadata": {},
   "outputs": [],
   "source": []
  }
 ],
 "metadata": {
  "kernelspec": {
   "display_name": "Python 3",
   "language": "python",
   "name": "python3"
  },
  "language_info": {
   "codemirror_mode": {
    "name": "ipython",
    "version": 3
   },
   "file_extension": ".py",
   "mimetype": "text/x-python",
   "name": "python",
   "nbconvert_exporter": "python",
   "pygments_lexer": "ipython3",
   "version": "3.7.4"
  }
 },
 "nbformat": 4,
 "nbformat_minor": 2
}
