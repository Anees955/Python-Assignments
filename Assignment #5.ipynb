{
 "cells": [
  {
   "cell_type": "code",
   "execution_count": 11,
   "metadata": {},
   "outputs": [
    {
     "name": "stdout",
     "output_type": "stream",
     "text": [
      "Enter Any number to find factorial\n",
      "7\n",
      "The factorial of 7 is 5040\n"
     ]
    }
   ],
   "source": [
    "# Question #1 \n",
    "# Finding Factorials\n",
    "\n",
    "def find_factorial(userInput):\n",
    "    \n",
    "    if userInput < 0:\n",
    "        print(\"Sorry, factorial does not exist for negative numbers\")\n",
    "    elif userInput == 0:\n",
    "        print(\"The factorial of 0 is 1\")\n",
    "    else:\n",
    "        factorial = 1\n",
    "        for i in range(1,userInput + 1):\n",
    "            factorial = factorial*i\n",
    "        print(\"The factorial of\",userInput,\"is\",factorial)\n",
    "            \n",
    "\n",
    "userInput = int(input(\"Enter Any number to find factorial\\n\"))\n",
    "find_factorial(userInput)"
   ]
  },
  {
   "cell_type": "code",
   "execution_count": 2,
   "metadata": {},
   "outputs": [
    {
     "name": "stdout",
     "output_type": "stream",
     "text": [
      "\n",
      "Type a String or word to find out Upper and Lower Cases Letters\n",
      "PythoN PRograMMing To CouNt UppER Case And LOwer CASe in A STRING\n",
      "\n",
      "-> Count of Uppercase letters are:  26 \n",
      "\t\t&\n",
      "-> Count of Lowercase letters are:  28\n"
     ]
    }
   ],
   "source": [
    "# Question #2\n",
    "# Finding Upper Case and Lower Case Letters of a String\n",
    "\n",
    "def finding_Upper_and_Lower_Characters(char):\n",
    "    upper_Count=0\n",
    "    lower_Count=0\n",
    "    for i in char:\n",
    "        if(i.islower()):\n",
    "            lower_Count += 1\n",
    "        elif(i.isupper()):\n",
    "            upper_Count += 1\n",
    "    print(\"\\n-> Count of Uppercase letters are: \",upper_Count,\"\\n\\t\\t&\\n-> Count of Lowercase letters are: \",lower_Count)\n",
    "    \n",
    "    \n",
    "char = input(\"\\nType a String or word to find out Upper and Lower Cases Letters\\n\")\n",
    "finding_Upper_and_Lower_Characters(char)"
   ]
  },
  {
   "cell_type": "code",
   "execution_count": 10,
   "metadata": {},
   "outputs": [
    {
     "name": "stdout",
     "output_type": "stream",
     "text": [
      "2\n",
      "12\n",
      "4\n",
      "24\n",
      "26\n",
      "50\n",
      "56\n",
      "60\n",
      "100\n",
      "These are Even numbers in a givin List\n"
     ]
    }
   ],
   "source": [
    "# Question #3\n",
    "\n",
    "def even_Numbers(number_List):\n",
    "    \n",
    "    for num in  number_List :\n",
    "        if num % 2 == 0 :\n",
    "            print(num)\n",
    "    print(\"These are Even numbers in a givin List\")\n",
    "    \n",
    "    \n",
    "number_List = [1,2,12,4,23,24,25,26,50,55,56,60,100]\n",
    "even_Numbers(number_List)"
   ]
  },
  {
   "cell_type": "code",
   "execution_count": 5,
   "metadata": {},
   "outputs": [
    {
     "name": "stdout",
     "output_type": "stream",
     "text": [
      "\n",
      "Enter any word to check if it is Palindrome or not\n",
      "Note: A palindrome is a word, phrase, or sequence that reads the same as backward as forward, e.g., madam\n",
      "madam\n",
      "Typed Word [ madam ] is Palindrome\n",
      "\n"
     ]
    }
   ],
   "source": [
    "# Question #4\n",
    "# check if a word is a Palindrome or not\n",
    "\n",
    "def palindromeFunc(inp):\n",
    "    reverse = inp[::-1] #this will make the orignal typed word in a reverse order as we know -1 is the last element's index  \n",
    "    if inp == reverse :\n",
    "        print(\"Typed Word [\",inp,\"] is Palindrome\\n\")\n",
    "    else:\n",
    "        print(\"Typed Word [\",inp,\"] is not Palindrome\\n\")\n",
    "\n",
    "inp = input(\"\\nEnter any word to check if it is Palindrome or not\\nNote: A palindrome is a word, phrase, or sequence that reads the same as backward as forward, e.g., madam\\n\").lower()\n",
    "palindromeFunc(inp)"
   ]
  },
  {
   "cell_type": "code",
   "execution_count": 36,
   "metadata": {},
   "outputs": [
    {
     "name": "stdout",
     "output_type": "stream",
     "text": [
      "Enter Any number to check is it prime or not\n",
      "7\n",
      "7 is a Prime number\n"
     ]
    }
   ],
   "source": [
    "# Question #5\n",
    "# check if the number is PRIME or not\n",
    "\"\"\"\n",
    "Definition: A prime number is a natural number greater than 1 that has no positive divisors other than 1 and itself. \n",
    "The first few prime numbers are {2, 3, 5, 7, 11, ….}.\n",
    "\"\"\"\n",
    "\n",
    "def primeNumbers(num) :\n",
    "    if num > 1 :\n",
    "        for i in range(2,num//2) :\n",
    "            if (num % i) == 0 :\n",
    "                print(num,\"is not a prime number\")\n",
    "                break\n",
    "        else : \n",
    "            print(num,\"is a Prime number\")\n",
    "\n",
    "    else:\n",
    "        print(num,\"is not a prime number\")\n",
    "\n",
    "    \n",
    "num = int(input(\"Enter Any number to check is it prime or not\\n\"))\n",
    "primeNumbers(num)"
   ]
  },
  {
   "cell_type": "code",
   "execution_count": 1,
   "metadata": {},
   "outputs": [
    {
     "name": "stdout",
     "output_type": "stream",
     "text": [
      "Enter item name you want to purchase\n",
      "Dress\n",
      "Enter an other item name you want to purchase\n",
      " OR press q to view purchased items\n",
      "Sun Glasses\n",
      "Enter an other item name you want to purchase\n",
      " OR press q to view purchased items\n",
      "T-Shirt\n",
      "Enter an other item name you want to purchase\n",
      " OR press q to view purchased items\n",
      "Shoes\n",
      "Enter an other item name you want to purchase\n",
      " OR press q to view purchased items\n",
      "q\n",
      "Items you have Purchased from the Market: \n",
      " ['Dress', 'Sun Glasses', 'T-Shirt', 'Shoes']\n"
     ]
    }
   ],
   "source": [
    "# Question #6\n",
    "# \n",
    "\n",
    "def purchased_Items(*items): #Arbitrary args to be collected here from list \n",
    "    for item in items :\n",
    "        print(\"Items you have Purchased from the Market: \\n\",item)\n",
    "\n",
    "\n",
    "\n",
    "items_list = [] #Empty list so that we can add the choices by user and then pass this list as a Multiple arguments for a defined function\n",
    "items = input(\"Enter item name you want to purchase\\n\")\n",
    "items_list.append(items)\n",
    "#for first item to be stored in list\n",
    "while True: # now this loop will be play infinite times until user press to indicat done purchasing item\n",
    "    items = input(\"Enter an other item name you want to purchase\\n OR press q to view purchased items\\n\")\n",
    "    if items == \"q\" or items == \"Q\" :\n",
    "        break\n",
    "    else:\n",
    "        items_list.append(items)\n",
    "\n",
    "\"\"\"\n",
    "iam taking userinput for the things that he wants to purchase instead of this \n",
    "we can also show user a predefined list of diffrent things with Price and ask him to buy from this list and \n",
    "then print all the things with total amount of the things\n",
    "\n",
    "\"\"\"\n",
    "#here iam passing items_list filled with items that user bought from market\n",
    "purchased_Items(items_list) "
   ]
  },
  {
   "cell_type": "code",
   "execution_count": null,
   "metadata": {},
   "outputs": [],
   "source": []
  },
  {
   "cell_type": "code",
   "execution_count": null,
   "metadata": {},
   "outputs": [],
   "source": []
  }
 ],
 "metadata": {
  "kernelspec": {
   "display_name": "Python 3",
   "language": "python",
   "name": "python3"
  },
  "language_info": {
   "codemirror_mode": {
    "name": "ipython",
    "version": 3
   },
   "file_extension": ".py",
   "mimetype": "text/x-python",
   "name": "python",
   "nbconvert_exporter": "python",
   "pygments_lexer": "ipython3",
   "version": "3.7.4"
  }
 },
 "nbformat": 4,
 "nbformat_minor": 2
}
