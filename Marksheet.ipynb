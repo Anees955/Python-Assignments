{
 "cells": [
  {
   "cell_type": "code",
   "execution_count": 42,
   "metadata": {},
   "outputs": [
    {
     "name": "stdout",
     "output_type": "stream",
     "text": [
      "Enter your percentage % : 80\n",
      "A+\n"
     ]
    }
   ],
   "source": [
    "perc = int(input(\"Enter your percentage % : \"))\n",
    "if perc >= 80 and perc <=100:\n",
    "    print(\"A+\")\n",
    "elif perc >= 70 and perc <80:\n",
    "    print(\"A\")\n",
    "elif perc >= 60 and perc <70:\n",
    "    print(\"B\")\n",
    "elif perc >= 50 and perc <60:\n",
    "    print(\"C\")\n",
    "elif perc >= 40 and perc <50:\n",
    "    print(\"D\")\n",
    "elif perc >= 30 and perc <40:\n",
    "    print(\"E\")\n",
    "elif perc >= 0 and perc <30:\n",
    "    print(\"Fail\")\n",
    "\n",
    "else :\n",
    "    print(\"Enter Correct Percentage % :\")\n"
   ]
  },
  {
   "cell_type": "code",
   "execution_count": null,
   "metadata": {},
   "outputs": [],
   "source": []
  },
  {
   "cell_type": "code",
   "execution_count": null,
   "metadata": {},
   "outputs": [],
   "source": []
  },
  {
   "cell_type": "code",
   "execution_count": null,
   "metadata": {},
   "outputs": [],
   "source": []
  },
  {
   "cell_type": "code",
   "execution_count": null,
   "metadata": {},
   "outputs": [],
   "source": []
  },
  {
   "cell_type": "code",
   "execution_count": null,
   "metadata": {},
   "outputs": [],
   "source": []
  }
 ],
 "metadata": {
  "kernelspec": {
   "display_name": "Python 3",
   "language": "python",
   "name": "python3"
  },
  "language_info": {
   "codemirror_mode": {
    "name": "ipython",
    "version": 3
   },
   "file_extension": ".py",
   "mimetype": "text/x-python",
   "name": "python",
   "nbconvert_exporter": "python",
   "pygments_lexer": "ipython3",
   "version": "3.7.4"
  }
 },
 "nbformat": 4,
 "nbformat_minor": 2
}
