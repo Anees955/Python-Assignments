{
 "cells": [
  {
   "cell_type": "code",
   "execution_count": 19,
   "metadata": {},
   "outputs": [
    {
     "name": "stdout",
     "output_type": "stream",
     "text": [
      "\tWELCOME TO MY CALCULATOR\n",
      "Enter + for Addition\n",
      "Enter - for Subtraction\n",
      "Enter * for Multiplication\n",
      "Enter / for Division\n",
      "Enter ^ for Power\n",
      "^\n",
      "Enter first value\n",
      "3\n",
      "Enter second value\n",
      "3\n",
      "Result:  3.0 ^ 3.0 = 27.0\n"
     ]
    }
   ],
   "source": [
    "#program #1\n",
    "#Calculator\n",
    "\n",
    "sym = input(\"\\tWELCOME TO MY CALCULATOR\\nEnter + for Addition\\nEnter - for Subtraction\\nEnter * for Multiplication\\nEnter / for Division\\nEnter ^ for Power\\n\")\n",
    "\n",
    "if sym == \"+\":\n",
    "    val1 = float(input(\"Enter first value\\n\"))\n",
    "    val2 = float(input(\"Enter second value\\n\"))\n",
    "    print(\"Result: \",val1,\"+\",val2,\"=\",val1+val2)\n",
    "elif sym == \"-\":\n",
    "    val1 = float(input(\"Enter first value\\n\"))\n",
    "    val2 = float(input(\"Enter second value\\n\"))\n",
    "    print(\"Result: \",val1,\"-\",val2,\"=\",val1-val2)\n",
    "elif sym == \"*\":\n",
    "    val1 = float(input(\"Enter first value\\n\"))\n",
    "    val2 = float(input(\"Enter second value\\n\"))\n",
    "    print(\"Result: \",val1,\"*\",val2,\"=\",val1*val2)\n",
    "elif sym == \"/\":\n",
    "    val1 = float(input(\"Enter first value\\n\"))\n",
    "    val2 = float(input(\"Enter second value\\n\"))\n",
    "    print(\"Result: \",val1,\"/\",val2,\"=\",val1/val2)\n",
    "elif sym == \"^\":\n",
    "    val1 = float(input(\"Enter first value\\n\"))\n",
    "    val2 = float(input(\"Enter second value\\n\"))\n",
    "    print(\"Result: \",val1,\"^\",val2,\"=\",val1**val2)\n",
    "\n",
    "    "
   ]
  },
  {
   "cell_type": "markdown",
   "metadata": {},
   "source": []
  },
  {
   "cell_type": "code",
   "execution_count": 11,
   "metadata": {},
   "outputs": [
    {
     "name": "stdout",
     "output_type": "stream",
     "text": [
      "String value: waqar\n",
      "Numeric value: 10\n",
      "Numeric value: 15\n",
      "Numeric value: 20\n",
      "Numeric value: 5\n",
      "Numeric value: 8\n",
      "String value: Anees\n",
      "String value: Solangi\n",
      "String value: zunaib\n",
      "\n",
      "Yes there are numeric values in this list\n"
     ]
    }
   ],
   "source": [
    "#program #2\n",
    "#checking numeric values in the list\n",
    "\n",
    "list =[\"waqar\",10,15,20,5,8,\"Anees\",\"Solangi\",\"zunaib\"]\n",
    "\n",
    "for check in list :\n",
    "    \n",
    "    if type(check)== int :\n",
    "        print(\"Numeric value:\",check)\n",
    "    else:\n",
    "        print(\"String value:\",check)\n",
    "\n",
    "print(\"\\nYes there are numeric values in this list\")"
   ]
  },
  {
   "cell_type": "code",
   "execution_count": 71,
   "metadata": {},
   "outputs": [
    {
     "name": "stdout",
     "output_type": "stream",
     "text": [
      "orignal Dict  {'Name': 'Anees', 'city': 'karachi', 'DOB': 1992}\n",
      "\n",
      "Key Added  {'Name': 'Anees', 'city': 'karachi', 'DOB': 1992, 'Last_Name': 'Solangi'}\n"
     ]
    }
   ],
   "source": [
    "#program #3\n",
    "#Adding key to a dict:\n",
    "\n",
    "dict = {\n",
    "  \"Name\": \"Anees\",\n",
    "  \"city\": \"karachi\",\n",
    "  \"DOB\": 1992\n",
    "}\n",
    "#aboe is dict which does not have key called Last name so iam adding that key with value in that dict:\n",
    "#an empty key can also be added if we want to.\n",
    "\n",
    "print(\"orignal Dict \",dict)\n",
    "\n",
    "dict[\"Last_Name\"] = \"Solangi\" #for adding key\n",
    "print(\"\\nKey Added \",dict)\n"
   ]
  },
  {
   "cell_type": "code",
   "execution_count": 1,
   "metadata": {},
   "outputs": [
    {
     "name": "stdout",
     "output_type": "stream",
     "text": [
      "Sum  1100\n"
     ]
    }
   ],
   "source": [
    "#Program #4\n",
    "#Sum All the numeric item from a dict:\n",
    "\n",
    "dict2 = {\n",
    "  \"data\": 100,\n",
    "  \"data1\" : 300,\n",
    "  \"data2\" : 500,\n",
    "  \"data3\" : 200  \n",
    "}\n",
    "print(\"Sum \",sum(dict2.values()))"
   ]
  },
  {
   "cell_type": "code",
   "execution_count": 13,
   "metadata": {},
   "outputs": [
    {
     "name": "stdout",
     "output_type": "stream",
     "text": [
      "Orignal list sorted [6, 7, 11, 15, 15, 20, 20, 20, 30, 30, 40, 40, 50, 50]\n",
      "These are duplicated items  [15, 20, 30, 40, 50]\n"
     ]
    }
   ],
   "source": [
    "#Program #5\n",
    "#identifying duplicate values in a list\n",
    "\n",
    "my_list = [20,30,20,30,40,50,15,11,20,40,50,15,6,7]\n",
    " \n",
    "my_list.sort() #sorting list to view clear duplications\n",
    "print(\"Orignal list sorted\",my_list)\n",
    " \n",
    "new_list = sorted(set(my_list))\n",
    "dup_list =[]\n",
    " \n",
    "for i in range(len(new_list)):\n",
    "        if (my_list.count(new_list[i]) > 1 ):\n",
    "            dup_list.append(new_list[i])\n",
    "        \n",
    "print(\"These are duplicated items \",dup_list) "
   ]
  },
  {
   "cell_type": "code",
   "execution_count": 13,
   "metadata": {},
   "outputs": [
    {
     "name": "stdout",
     "output_type": "stream",
     "text": [
      "the key 'DOB' exists in this dictionary\n"
     ]
    }
   ],
   "source": [
    "#Program #6\n",
    "#checking if key is already exists in a dict: or not.\n",
    "\n",
    "dict1 = {\n",
    "  \"Name\": \"Anees\",\n",
    "  \"city\": \"karachi\",\n",
    "  \"DOB\": 1992\n",
    "}\n",
    "\n",
    "if \"DOB\" in dict1:\n",
    "    print(\"the key 'DOB' exists in this dictionary\")\n",
    "else:\n",
    "    print(\"the key 'DOB' not exists in this dictionary\")"
   ]
  },
  {
   "cell_type": "code",
   "execution_count": null,
   "metadata": {},
   "outputs": [],
   "source": []
  },
  {
   "cell_type": "code",
   "execution_count": null,
   "metadata": {},
   "outputs": [],
   "source": []
  }
 ],
 "metadata": {
  "kernelspec": {
   "display_name": "Python 3",
   "language": "python",
   "name": "python3"
  },
  "language_info": {
   "codemirror_mode": {
    "name": "ipython",
    "version": 3
   },
   "file_extension": ".py",
   "mimetype": "text/x-python",
   "name": "python",
   "nbconvert_exporter": "python",
   "pygments_lexer": "ipython3",
   "version": "3.7.4"
  }
 },
 "nbformat": 4,
 "nbformat_minor": 2
}
