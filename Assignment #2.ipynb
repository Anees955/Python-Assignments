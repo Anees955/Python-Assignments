{
 "cells": [
  {
   "cell_type": "code",
   "execution_count": 1,
   "metadata": {},
   "outputs": [
    {
     "name": "stdout",
     "output_type": "stream",
     "text": [
      "Enter JAVA Marks : 100\n",
      "Enter C++ Marks : 100\n",
      "Enter Python Marks : 100\n",
      "Enter Assembly Marks : 100\n",
      "Enter info: Technology Marks : 50\n",
      "\n",
      "Total Marks: 500\n",
      "Obtained Marks: 450 \n",
      "Percentage:  90.0 % \tGrade: A+\n"
     ]
    }
   ],
   "source": [
    "#Program #1\n",
    "#Marsheet\n",
    "\n",
    "java_M = int(input(\"Enter JAVA Marks : \"))\n",
    "c_M = int(input(\"Enter C++ Marks : \"))\n",
    "python_M = int(input(\"Enter Python Marks : \"))\n",
    "assembly_M = int(input(\"Enter Assembly Marks : \"))\n",
    "it_M = int(input(\"Enter info: Technology Marks : \"))\n",
    "\n",
    "obt_Marks=java_M+c_M+python_M+assembly_M+it_M\n",
    "total_Marks=500\n",
    "perc=(obt_Marks/total_Marks)*100\n",
    "    \n",
    "if obt_Marks >= 450 and obt_Marks <=500:\n",
    "    print(\"\\nTotal Marks: 500\\nObtained Marks:\",obt_Marks, \"\\nPercentage: \",perc,\"% \\tGrade: A+\")\n",
    "elif obt_Marks >= 400 and obt_Marks <450:\n",
    "    print(\"\\nTotal Marks: 500\\nObtained Marks:\",obt_Marks, \"\\nPercentage: \",perc,\"% \\tGrade: A\")\n",
    "elif obt_Marks >= 300 and obt_Marks <400:\n",
    "    print(\"\\nTotal Marks: 500\\nObtained Marks:\",obt_Marks, \"\\nPercentage: \",perc,\"% \\tGrade: B\")\n",
    "elif obt_Marks >= 200 and obt_Marks <300:\n",
    "    print(\"\\nTotal Marks: 500\\nObtained Marks:\",obt_Marks, \"\\nPercentage: \",perc,\"% \\tGrade: C\")\n",
    "elif obt_Marks >= 100 and obt_Marks <200:\n",
    "    print(\"\\nTotal Marks: 500\\nObtained Marks:\",obt_Marks, \"\\nPercentage: \",perc,\"% \\tGrade: D\")\n",
    "elif obt_Marks <100:\n",
    "    print(\"Fail\")\n",
    "    "
   ]
  },
  {
   "cell_type": "code",
   "execution_count": 9,
   "metadata": {},
   "outputs": [
    {
     "name": "stdout",
     "output_type": "stream",
     "text": [
      "Enter any number: 10\n",
      "Number 10 is Even\n"
     ]
    }
   ],
   "source": [
    "#Program #2\n",
    "#Even Odd Numbers identifying\n",
    "userInput = int(input(\"Enter any number: \"))\n",
    "if (userInput % 2) == 0:\n",
    "    print(\"Number\",userInput,\"is Even\")\n",
    "else: \n",
    "    print(\"Number\",userInput,\"is Odd\")"
   ]
  },
  {
   "cell_type": "code",
   "execution_count": 4,
   "metadata": {},
   "outputs": [
    {
     "name": "stdout",
     "output_type": "stream",
     "text": [
      "Length of list is: 7\n"
     ]
    }
   ],
   "source": [
    "#Program #3\n",
    "#Printing the length of List.\n",
    "list=[\"Anees\",\"Ahmed\",\"Zunaib\",1,34,6,30]\n",
    "length_of_list = len(list)\n",
    "print(\"Length of list is:\",length_of_list)"
   ]
  },
  {
   "cell_type": "code",
   "execution_count": 15,
   "metadata": {},
   "outputs": [
    {
     "name": "stdout",
     "output_type": "stream",
     "text": [
      "Sum of all numeric values is: 71\n"
     ]
    }
   ],
   "source": [
    "#Program #4\n",
    "#Sum All the numeric items from a list.\n",
    "\n",
    "#if we a list a all numeric values then by using sum() method we can simply get sum of all.\n",
    "\n",
    "#but for a list having diffrent type of elements then this.\n",
    "\n",
    "list_items =[\"Anees\",\"Ahmed\",\"Zunaib\",1,34,6,30]\n",
    "\n",
    "def sum_of_numbers(l): \n",
    "  \n",
    "    # returning sum of list using List comprehension \n",
    "    return  sum([int(i) for i in l if type(i)== int or i.isdigit()]) \n",
    "\n",
    "print(\"Sum of all numeric values is:\",sum_of_numbers(list_items))\n",
    "\n",
    "#Sir this was a bit tricky for me so i have checked the internet \n",
    "#sir ye wala class mai disscuss kejyega thora bht smjha hai thora aap samjhaen \n",
    "\n"
   ]
  },
  {
   "cell_type": "code",
   "execution_count": 9,
   "metadata": {},
   "outputs": [
    {
     "name": "stdout",
     "output_type": "stream",
     "text": [
      "Largest number in a list is:  100\n"
     ]
    }
   ],
   "source": [
    "#Program #5\n",
    "#get the largest number from numeric list.\n",
    "list1=[1,2,3,5,100,8,13,21,34,55,89,60,10]\n",
    "\n",
    "#two ways \n",
    "#first sort the list Asc order and print the last element for example\n",
    "\n",
    "#list1.sort()\n",
    "#print(\"Largest number in a list is: \",list1[-1])\n",
    "\n",
    "#second way is to use max() method\n",
    "print(\"Largest number in a list is: \",max(list1))\n",
    "\n",
    "#i have checked both ways."
   ]
  },
  {
   "cell_type": "code",
   "execution_count": 14,
   "metadata": {},
   "outputs": [
    {
     "name": "stdout",
     "output_type": "stream",
     "text": [
      "The numbers less than 5 : 1\n",
      "The numbers less than 5 : 2\n",
      "The numbers less than 5 : 3\n",
      "The numbers less than 5 : 4\n"
     ]
    }
   ],
   "source": [
    "#Program #6\n",
    "#printing number that are less then 5\n",
    "\n",
    "list2=[1,2,3,4,5,8,13,21,34,55,89]\n",
    "n=5\n",
    "\n",
    "# using naive method  \n",
    "# to get numbers < n as we have set value of n to 5 \n",
    "count = 0\n",
    "for i in list2 : \n",
    "    if i < n : \n",
    "        count = count + 1\n",
    "        print (\"The numbers less than 5 : \" + str(count))"
   ]
  },
  {
   "cell_type": "code",
   "execution_count": null,
   "metadata": {},
   "outputs": [],
   "source": []
  }
 ],
 "metadata": {
  "kernelspec": {
   "display_name": "Python 3",
   "language": "python",
   "name": "python3"
  },
  "language_info": {
   "codemirror_mode": {
    "name": "ipython",
    "version": 3
   },
   "file_extension": ".py",
   "mimetype": "text/x-python",
   "name": "python",
   "nbconvert_exporter": "python",
   "pygments_lexer": "ipython3",
   "version": "3.7.4"
  }
 },
 "nbformat": 4,
 "nbformat_minor": 2
}
